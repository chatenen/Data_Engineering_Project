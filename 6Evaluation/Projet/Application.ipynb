{
 "cells": [
  {
   "cell_type": "code",
   "execution_count": 35,
   "metadata": {},
   "outputs": [
    {
     "name": "stdout",
     "output_type": "stream",
     "text": [
      "Requirement already satisfied: plotly in /opt/anaconda3/lib/python3.7/site-packages (4.14.3)\n",
      "Requirement already satisfied: retrying>=1.3.3 in /opt/anaconda3/lib/python3.7/site-packages (from plotly) (1.3.3)\n",
      "Requirement already satisfied: six in /opt/anaconda3/lib/python3.7/site-packages (from plotly) (1.15.0)\n",
      "\u001b[33mWARNING: You are using pip version 20.3.3; however, version 21.0.1 is available.\n",
      "You should consider upgrading via the '/opt/anaconda3/bin/python -m pip install --upgrade pip' command.\u001b[0m\n",
      "Note: you may need to restart the kernel to use updated packages.\n"
     ]
    }
   ],
   "source": [
    "pip install plotly"
   ]
  },
  {
   "cell_type": "code",
   "execution_count": 1,
   "metadata": {},
   "outputs": [
    {
     "output_type": "stream",
     "name": "stdout",
     "text": [
      "Overwriting contenu_app.py\n"
     ]
    }
   ],
   "source": [
    "%%file contenu_app.py\n",
    "\n",
    "### IMPORT ###\n",
    "\n",
    "from flask import Flask, render_template\n",
    "import plotly\n",
    "import plotly.graph_objs as go\n",
    "\n",
    "import pandas as pd\n",
    "import numpy as np\n",
    "import json\n",
    "\n",
    "import pymongo\n",
    "from pymongo import MongoClient\n",
    "\n",
    "### DEFINITION APP ###\n",
    "\n",
    "app = Flask(__name__)\n",
    "\n",
    "df_understat_L1 = pd.read_csv('Data_traitement/understatL1.csv', index_col=0)\n",
    "df_cote_L1 = pd.read_csv('Data_traitement/coteL1.csv', index_col=0)\n",
    "\n",
    "client = pymongo.MongoClient('127.0.0.1', 27017)\n",
    "# client = pyMongo.MongoClient('mongo')\n",
    "database = client['exercices']\n",
    "collection_understatL1 = database['understatL1']\n",
    "collection_coteL1 = database['coteL1']\n",
    "\n",
    "##############\n",
    "### GRAPHS ###\n",
    "##############\n",
    "\n",
    "# Compraison XG-XGA\n",
    "def create_plot_1(df_understat_L1):\n",
    "    trace1 = go.Bar(x = df_understat_L1['Team'], y = df_understat_L1['xG']/df_understat_L1['M'], name = 'xG')\n",
    "    trace2 = go.Bar(x = df_understat_L1['Team'], y = df_understat_L1['xGA']/df_understat_L1['M'], name = 'xGA')\n",
    "    layout = go.Layout(title = \"Comparaison XG-XGA pour les équipes de Ligue 1 française\" , xaxis = dict(title='Team'), yaxis = dict(title='xG/xGA'), title_x = 0.5)\n",
    "    data = [trace1, trace2]\n",
    "    fig = go.Figure(data = data, layout = layout)\n",
    "    fig.write_image(\"static/images_plot/plot1.png\")\n",
    "\n",
    "\n",
    "# Comparaison XG-G\n",
    "def create_plot_2(df_understat_L1):\n",
    "    trace1 = go.Bar(x = df_understat_L1['Team'], y = (-df_understat_L1['xG-G']/df_understat_L1['M']), name = 'xG-G')\n",
    "    layout = go.Layout(title = \"Réussite de chaque équipe de Ligue 1 française sur les buts marqués par matchs\", xaxis = dict(title='Team'), yaxis = dict(title='-(xG-G)/m'), title_x = 0.5)\n",
    "    data = [trace1]\n",
    "    fig = go.Figure(data = data, layout = layout)\n",
    "    fig.write_image(\"static/images_plot/plot2.png\")\n",
    "\n",
    "\n",
    "# Comparaison XGA-GA\n",
    "def create_plot_3(df_understat_L1):\n",
    "    trace1 = go.Bar(x = df_understat_L1['Team'], y = df_understat_L1['xGA-GA']/df_understat_L1['M'], name = 'xGA-GA')\n",
    "    layout = go.Layout(title = \"Réussite de chaque équipe de Ligue 1 française sur les buts encaissés par matchs\", xaxis = dict(title='Team'), yaxis = dict(title='(xGA-GA)/m'), title_x = 0.5)\n",
    "    data = [trace1]\n",
    "    fig = go.Figure(data = data, layout = layout)\n",
    "    fig.write_image(\"static/images_plot/plot3.png\")\n",
    "\n",
    "\n",
    "# Comparaison XPTS-PTS\n",
    "def create_plot_4(df_understat_L1):\n",
    "    trace1 = go.Bar(x = df_understat_L1['Team'], y = (-df_understat_L1['xPTS-PTS'])/df_understat_L1['M'], name = 'xPTS-PTS')\n",
    "    layout = go.Layout(title = \"Réussite de chaque équipe de Ligue 1 française sur les points pris\", xaxis = dict(title='Team'), yaxis = dict(title='-(xPTS-PTS)/m'), title_x = 0.5)\n",
    "    data = [trace1]\n",
    "    fig = go.Figure(data = data, layout = layout)\n",
    "    fig.write_image(\"static/images_plot/plot4.png\")\n",
    "\n",
    "\n",
    "# Création graphque\n",
    "create_plot_1(df_understat_L1)\n",
    "create_plot_2(df_understat_L1)\n",
    "create_plot_3(df_understat_L1)\n",
    "create_plot_4(df_understat_L1)\n",
    "\n",
    "\n",
    "## APP ROUTE : DESCRIPTION ##\n",
    "@app.route('/')\n",
    "def application():\n",
    "    return render_template('template_description.html')\n",
    "\n",
    "\n",
    "## APP ROUTE : GRAPH ##\n",
    "@app.route('/graph')\n",
    "def graph_page():\n",
    "    return render_template('template_graph.html')\n",
    "\n",
    "\n",
    "## APP ROUTE : CLASSEMENT ##\n",
    "@app.route('/classement')\n",
    "def classement_page():\n",
    "    database = collection_understatL1.find()\n",
    "    return render_template('template_classement.html', data = database)\n",
    "\n",
    "\n",
    "## APP ROUTE : CALENDRIER ##\n",
    "@app.route('/calendrier')\n",
    "def calendrier_page():\n",
    "    database2 = collection_coteL1.find()\n",
    "    return render_template('template_calendrier.html', data2 = database2)\n",
    "\n",
    "\n",
    "if __name__ == '__main__':\n",
    "    app.run() "
   ]
  },
  {
   "cell_type": "code",
   "execution_count": 2,
   "metadata": {},
   "outputs": [
    {
     "output_type": "stream",
     "name": "stdout",
     "text": [
      " * Serving Flask app \"contenu_app\" (lazy loading)\n",
      " * Environment: production\n",
      "\u001b[31m   WARNING: This is a development server. Do not use it in a production deployment.\u001b[0m\n",
      "\u001b[2m   Use a production WSGI server instead.\u001b[0m\n",
      " * Debug mode: off\n",
      " * Running on http://127.0.0.1:5000/ (Press CTRL+C to quit)\n",
      "127.0.0.1 - - [05/Feb/2021 14:11:35] \"\u001b[37mGET / HTTP/1.1\u001b[0m\" 200 -\n",
      "127.0.0.1 - - [05/Feb/2021 14:11:35] \"\u001b[37mGET /static/images_plot/description2.png HTTP/1.1\u001b[0m\" 200 -\n",
      "127.0.0.1 - - [05/Feb/2021 14:11:35] \"\u001b[36mGET /static/images_plot/description1.png HTTP/1.1\u001b[0m\" 304 -\n",
      "127.0.0.1 - - [05/Feb/2021 14:22:52] \"\u001b[37mGET /calendrier HTTP/1.1\u001b[0m\" 200 -\n",
      "^C\n"
     ]
    }
   ],
   "source": [
    "!python contenu_app.py"
   ]
  },
  {
   "cell_type": "code",
   "execution_count": null,
   "metadata": {},
   "outputs": [],
   "source": []
  }
 ],
 "metadata": {
  "kernelspec": {
   "display_name": "Python 3",
   "language": "python",
   "name": "python3"
  },
  "language_info": {
   "codemirror_mode": {
    "name": "ipython",
    "version": 3
   },
   "file_extension": ".py",
   "mimetype": "text/x-python",
   "name": "python",
   "nbconvert_exporter": "python",
   "pygments_lexer": "ipython3",
   "version": "3.7.4-final"
  }
 },
 "nbformat": 4,
 "nbformat_minor": 4
}