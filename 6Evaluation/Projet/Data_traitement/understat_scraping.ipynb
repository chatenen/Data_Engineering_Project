{
 "cells": [
  {
   "cell_type": "code",
   "execution_count": 37,
   "metadata": {},
   "outputs": [
    {
     "output_type": "stream",
     "name": "stdout",
     "text": [
      "Requirement already satisfied: selenium in /opt/anaconda3/lib/python3.7/site-packages (3.141.0)\n",
      "Requirement already satisfied: urllib3 in /opt/anaconda3/lib/python3.7/site-packages (from selenium) (1.25.11)\n",
      "\u001b[33mWARNING: You are using pip version 20.3.3; however, version 21.0.1 is available.\n",
      "You should consider upgrading via the '/opt/anaconda3/bin/python -m pip install --upgrade pip' command.\u001b[0m\n"
     ]
    }
   ],
   "source": [
    "!pip install selenium"
   ]
  },
  {
   "cell_type": "code",
   "execution_count": 50,
   "metadata": {},
   "outputs": [
    {
     "output_type": "stream",
     "name": "stderr",
     "text": [
      "[WDM] - ====== WebDriver manager ======\n",
      "[WDM] - Current google-chrome version is 88.0.4324\n",
      "[WDM] - Get LATEST driver version for 88.0.4324\n",
      "\n",
      "\n",
      "[WDM] - Driver [/Users/nathan/.wdm/drivers/chromedriver/mac64/88.0.4324.96/chromedriver] found in cache\n"
     ]
    }
   ],
   "source": [
    "from selenium import webdriver\n",
    "from webdriver_manager.chrome import ChromeDriverManager\n",
    "chrome = webdriver.Chrome(ChromeDriverManager().install())\n",
    "\n",
    "#chrome = webdriver.Chrome() # executable_path=\"./chromedriver\""
   ]
  },
  {
   "cell_type": "code",
   "execution_count": 39,
   "metadata": {},
   "outputs": [],
   "source": [
    "chrome.get(\"https://understat.com/league/Ligue_1\")"
   ]
  },
  {
   "cell_type": "code",
   "execution_count": 40,
   "metadata": {},
   "outputs": [],
   "source": [
    "import pandas as pd\n",
    "search_stat = chrome.find_elements_by_id(\"league-chemp\")\n",
    "stat = [elt.text for elt in search_stat]"
   ]
  },
  {
   "cell_type": "code",
   "execution_count": 41,
   "metadata": {},
   "outputs": [],
   "source": [
    "tab = stat[0].replace('\\n', ',')\n",
    "tab = tab.replace(' ', ',')\n",
    "tab = tab.replace('+', ',+')\n",
    "tab = tab.replace('-', ',-')\n",
    "\n",
    "tab = tab.replace('Paris,Saint,Germain', 'Paris-Saint-Germain')\n",
    "tab = tab.replace('Saint,-Etienne', 'Saint-Etienne')"
   ]
  },
  {
   "cell_type": "code",
   "execution_count": 42,
   "metadata": {},
   "outputs": [],
   "source": [
    "tab = tab.split(',')"
   ]
  },
  {
   "cell_type": "code",
   "execution_count": 43,
   "metadata": {},
   "outputs": [],
   "source": [
    "tab.insert(10, 'xG-G')\n",
    "tab.insert(12, 'xGA-GA')\n",
    "tab.insert(14, 'xPTS-PTS')\n",
    "tab[0] = 'Pos'"
   ]
  },
  {
   "cell_type": "code",
   "execution_count": 44,
   "metadata": {},
   "outputs": [],
   "source": [
    "ncol = 15\n",
    "cut_list = [tab[i:i + ncol] for i in range(0, len(tab), ncol)]"
   ]
  },
  {
   "cell_type": "code",
   "execution_count": 45,
   "metadata": {},
   "outputs": [],
   "source": [
    "df = pd.DataFrame(cut_list[1:], columns = cut_list[0])"
   ]
  },
  {
   "cell_type": "code",
   "execution_count": 46,
   "metadata": {},
   "outputs": [],
   "source": [
    "df[['Pos', 'M', 'W', 'D', 'L', 'G', 'GA', 'PTS']] = df[['Pos', 'M', 'W', 'D', 'L', 'G', 'GA', 'PTS']].astype(int)\n",
    "df[['xG', 'xG-G', 'xGA', 'xGA-GA', 'xPTS', 'xPTS-PTS']] = df[['xG', 'xG-G', 'xGA', 'xGA-GA', 'xPTS', 'xPTS-PTS']].astype(float)"
   ]
  },
  {
   "cell_type": "code",
   "execution_count": 47,
   "metadata": {},
   "outputs": [
    {
     "output_type": "execute_result",
     "data": {
      "text/plain": [
       "    Pos                 Team   M   W   D   L   G  GA  PTS     xG  xG-G    xGA  \\\n",
       "0     1                Lille  23  15   6   2  40  15   51  31.96 -8.04  15.15   \n",
       "1     2                 Lyon  23  14   7   2  47  20   49  51.32  4.32  20.78   \n",
       "2     3  Paris-Saint-Germain  23  15   3   5  53  14   48  55.62  2.62  24.99   \n",
       "3     4               Monaco  23  14   3   6  46  32   45  44.54 -1.46  24.33   \n",
       "4     5               Rennes  22  10   7   5  31  24   37  27.01 -3.99  19.38   \n",
       "5     6                 Metz  23   9   8   6  28  21   35  26.88 -1.12  26.30   \n",
       "6     7                 Lens  23  10   5   8  34  33   35  33.77 -0.23  24.64   \n",
       "7     8               Angers  23  10   4   9  29  34   34  26.03 -2.97  30.66   \n",
       "8     9            Marseille  21   9   6   6  29  24   33  27.56 -1.44  25.74   \n",
       "9    10             Bordeaux  23   9   5   9  26  27   32  25.44 -0.56  31.39   \n",
       "10   11          Montpellier  23   8   5  10  35  42   29  26.86 -8.14  40.77   \n",
       "11   12                Reims  23   7   7   9  30  31   28  23.13 -6.87  36.22   \n",
       "12   13                Brest  23   8   3  12  35  43   27  30.57 -4.43  35.14   \n",
       "13   14                 Nice  22   7   5  10  24  31   26  24.16  0.16  34.99   \n",
       "14   15           Strasbourg  23   7   4  12  32  36   25  34.81  2.81  33.03   \n",
       "15   16        Saint-Etienne  23   5   8  10  22  36   23  26.98  4.98  30.89   \n",
       "16   17               Nantes  23   3  10  10  22  37   19  27.64  5.64  36.61   \n",
       "17   18              Lorient  22   5   4  13  27  43   19  26.63 -0.37  31.89   \n",
       "18   19                Dijon  23   2   9  12  15  32   15  19.31  4.31  42.89   \n",
       "19   20                Nimes  22   4   3  15  17  47   15  20.01  3.01  44.47   \n",
       "\n",
       "    xGA-GA   xPTS  xPTS-PTS  reussit_index  \n",
       "0     0.15  42.96     -8.04       0.705652  \n",
       "1     0.78  50.73      1.73      -0.229130  \n",
       "2    10.99  47.38     -0.62       0.390870  \n",
       "3    -7.67  43.57     -1.43      -0.207826  \n",
       "4    -4.62  35.32     -1.68       0.047727  \n",
       "5     5.30  32.06     -2.94       0.406957  \n",
       "6    -8.36  38.83      3.83      -0.520000  \n",
       "7    -3.34  28.32     -5.68       0.230870  \n",
       "8     1.74  30.40     -2.60       0.275238  \n",
       "9     4.39  28.38     -3.62       0.372609  \n",
       "10   -1.23  26.14     -2.86       0.424783  \n",
       "11    5.22  22.50     -5.50       0.764783  \n",
       "12   -7.86  28.91      1.91      -0.232174  \n",
       "13    3.99  24.91     -1.09       0.223636  \n",
       "14   -2.97  32.21      7.21      -0.564783  \n",
       "15   -5.11  30.38      7.38      -0.759565  \n",
       "16   -0.39  26.43      7.43      -0.585217  \n",
       "17  -11.11  26.03      7.03      -0.807727  \n",
       "18   10.89  15.83      0.83       0.250000  \n",
       "19   -2.53  16.11      1.11      -0.302273  "
      ],
      "text/html": "<div>\n<style scoped>\n    .dataframe tbody tr th:only-of-type {\n        vertical-align: middle;\n    }\n\n    .dataframe tbody tr th {\n        vertical-align: top;\n    }\n\n    .dataframe thead th {\n        text-align: right;\n    }\n</style>\n<table border=\"1\" class=\"dataframe\">\n  <thead>\n    <tr style=\"text-align: right;\">\n      <th></th>\n      <th>Pos</th>\n      <th>Team</th>\n      <th>M</th>\n      <th>W</th>\n      <th>D</th>\n      <th>L</th>\n      <th>G</th>\n      <th>GA</th>\n      <th>PTS</th>\n      <th>xG</th>\n      <th>xG-G</th>\n      <th>xGA</th>\n      <th>xGA-GA</th>\n      <th>xPTS</th>\n      <th>xPTS-PTS</th>\n      <th>reussit_index</th>\n    </tr>\n  </thead>\n  <tbody>\n    <tr>\n      <th>0</th>\n      <td>1</td>\n      <td>Lille</td>\n      <td>23</td>\n      <td>15</td>\n      <td>6</td>\n      <td>2</td>\n      <td>40</td>\n      <td>15</td>\n      <td>51</td>\n      <td>31.96</td>\n      <td>-8.04</td>\n      <td>15.15</td>\n      <td>0.15</td>\n      <td>42.96</td>\n      <td>-8.04</td>\n      <td>0.705652</td>\n    </tr>\n    <tr>\n      <th>1</th>\n      <td>2</td>\n      <td>Lyon</td>\n      <td>23</td>\n      <td>14</td>\n      <td>7</td>\n      <td>2</td>\n      <td>47</td>\n      <td>20</td>\n      <td>49</td>\n      <td>51.32</td>\n      <td>4.32</td>\n      <td>20.78</td>\n      <td>0.78</td>\n      <td>50.73</td>\n      <td>1.73</td>\n      <td>-0.229130</td>\n    </tr>\n    <tr>\n      <th>2</th>\n      <td>3</td>\n      <td>Paris-Saint-Germain</td>\n      <td>23</td>\n      <td>15</td>\n      <td>3</td>\n      <td>5</td>\n      <td>53</td>\n      <td>14</td>\n      <td>48</td>\n      <td>55.62</td>\n      <td>2.62</td>\n      <td>24.99</td>\n      <td>10.99</td>\n      <td>47.38</td>\n      <td>-0.62</td>\n      <td>0.390870</td>\n    </tr>\n    <tr>\n      <th>3</th>\n      <td>4</td>\n      <td>Monaco</td>\n      <td>23</td>\n      <td>14</td>\n      <td>3</td>\n      <td>6</td>\n      <td>46</td>\n      <td>32</td>\n      <td>45</td>\n      <td>44.54</td>\n      <td>-1.46</td>\n      <td>24.33</td>\n      <td>-7.67</td>\n      <td>43.57</td>\n      <td>-1.43</td>\n      <td>-0.207826</td>\n    </tr>\n    <tr>\n      <th>4</th>\n      <td>5</td>\n      <td>Rennes</td>\n      <td>22</td>\n      <td>10</td>\n      <td>7</td>\n      <td>5</td>\n      <td>31</td>\n      <td>24</td>\n      <td>37</td>\n      <td>27.01</td>\n      <td>-3.99</td>\n      <td>19.38</td>\n      <td>-4.62</td>\n      <td>35.32</td>\n      <td>-1.68</td>\n      <td>0.047727</td>\n    </tr>\n    <tr>\n      <th>5</th>\n      <td>6</td>\n      <td>Metz</td>\n      <td>23</td>\n      <td>9</td>\n      <td>8</td>\n      <td>6</td>\n      <td>28</td>\n      <td>21</td>\n      <td>35</td>\n      <td>26.88</td>\n      <td>-1.12</td>\n      <td>26.30</td>\n      <td>5.30</td>\n      <td>32.06</td>\n      <td>-2.94</td>\n      <td>0.406957</td>\n    </tr>\n    <tr>\n      <th>6</th>\n      <td>7</td>\n      <td>Lens</td>\n      <td>23</td>\n      <td>10</td>\n      <td>5</td>\n      <td>8</td>\n      <td>34</td>\n      <td>33</td>\n      <td>35</td>\n      <td>33.77</td>\n      <td>-0.23</td>\n      <td>24.64</td>\n      <td>-8.36</td>\n      <td>38.83</td>\n      <td>3.83</td>\n      <td>-0.520000</td>\n    </tr>\n    <tr>\n      <th>7</th>\n      <td>8</td>\n      <td>Angers</td>\n      <td>23</td>\n      <td>10</td>\n      <td>4</td>\n      <td>9</td>\n      <td>29</td>\n      <td>34</td>\n      <td>34</td>\n      <td>26.03</td>\n      <td>-2.97</td>\n      <td>30.66</td>\n      <td>-3.34</td>\n      <td>28.32</td>\n      <td>-5.68</td>\n      <td>0.230870</td>\n    </tr>\n    <tr>\n      <th>8</th>\n      <td>9</td>\n      <td>Marseille</td>\n      <td>21</td>\n      <td>9</td>\n      <td>6</td>\n      <td>6</td>\n      <td>29</td>\n      <td>24</td>\n      <td>33</td>\n      <td>27.56</td>\n      <td>-1.44</td>\n      <td>25.74</td>\n      <td>1.74</td>\n      <td>30.40</td>\n      <td>-2.60</td>\n      <td>0.275238</td>\n    </tr>\n    <tr>\n      <th>9</th>\n      <td>10</td>\n      <td>Bordeaux</td>\n      <td>23</td>\n      <td>9</td>\n      <td>5</td>\n      <td>9</td>\n      <td>26</td>\n      <td>27</td>\n      <td>32</td>\n      <td>25.44</td>\n      <td>-0.56</td>\n      <td>31.39</td>\n      <td>4.39</td>\n      <td>28.38</td>\n      <td>-3.62</td>\n      <td>0.372609</td>\n    </tr>\n    <tr>\n      <th>10</th>\n      <td>11</td>\n      <td>Montpellier</td>\n      <td>23</td>\n      <td>8</td>\n      <td>5</td>\n      <td>10</td>\n      <td>35</td>\n      <td>42</td>\n      <td>29</td>\n      <td>26.86</td>\n      <td>-8.14</td>\n      <td>40.77</td>\n      <td>-1.23</td>\n      <td>26.14</td>\n      <td>-2.86</td>\n      <td>0.424783</td>\n    </tr>\n    <tr>\n      <th>11</th>\n      <td>12</td>\n      <td>Reims</td>\n      <td>23</td>\n      <td>7</td>\n      <td>7</td>\n      <td>9</td>\n      <td>30</td>\n      <td>31</td>\n      <td>28</td>\n      <td>23.13</td>\n      <td>-6.87</td>\n      <td>36.22</td>\n      <td>5.22</td>\n      <td>22.50</td>\n      <td>-5.50</td>\n      <td>0.764783</td>\n    </tr>\n    <tr>\n      <th>12</th>\n      <td>13</td>\n      <td>Brest</td>\n      <td>23</td>\n      <td>8</td>\n      <td>3</td>\n      <td>12</td>\n      <td>35</td>\n      <td>43</td>\n      <td>27</td>\n      <td>30.57</td>\n      <td>-4.43</td>\n      <td>35.14</td>\n      <td>-7.86</td>\n      <td>28.91</td>\n      <td>1.91</td>\n      <td>-0.232174</td>\n    </tr>\n    <tr>\n      <th>13</th>\n      <td>14</td>\n      <td>Nice</td>\n      <td>22</td>\n      <td>7</td>\n      <td>5</td>\n      <td>10</td>\n      <td>24</td>\n      <td>31</td>\n      <td>26</td>\n      <td>24.16</td>\n      <td>0.16</td>\n      <td>34.99</td>\n      <td>3.99</td>\n      <td>24.91</td>\n      <td>-1.09</td>\n      <td>0.223636</td>\n    </tr>\n    <tr>\n      <th>14</th>\n      <td>15</td>\n      <td>Strasbourg</td>\n      <td>23</td>\n      <td>7</td>\n      <td>4</td>\n      <td>12</td>\n      <td>32</td>\n      <td>36</td>\n      <td>25</td>\n      <td>34.81</td>\n      <td>2.81</td>\n      <td>33.03</td>\n      <td>-2.97</td>\n      <td>32.21</td>\n      <td>7.21</td>\n      <td>-0.564783</td>\n    </tr>\n    <tr>\n      <th>15</th>\n      <td>16</td>\n      <td>Saint-Etienne</td>\n      <td>23</td>\n      <td>5</td>\n      <td>8</td>\n      <td>10</td>\n      <td>22</td>\n      <td>36</td>\n      <td>23</td>\n      <td>26.98</td>\n      <td>4.98</td>\n      <td>30.89</td>\n      <td>-5.11</td>\n      <td>30.38</td>\n      <td>7.38</td>\n      <td>-0.759565</td>\n    </tr>\n    <tr>\n      <th>16</th>\n      <td>17</td>\n      <td>Nantes</td>\n      <td>23</td>\n      <td>3</td>\n      <td>10</td>\n      <td>10</td>\n      <td>22</td>\n      <td>37</td>\n      <td>19</td>\n      <td>27.64</td>\n      <td>5.64</td>\n      <td>36.61</td>\n      <td>-0.39</td>\n      <td>26.43</td>\n      <td>7.43</td>\n      <td>-0.585217</td>\n    </tr>\n    <tr>\n      <th>17</th>\n      <td>18</td>\n      <td>Lorient</td>\n      <td>22</td>\n      <td>5</td>\n      <td>4</td>\n      <td>13</td>\n      <td>27</td>\n      <td>43</td>\n      <td>19</td>\n      <td>26.63</td>\n      <td>-0.37</td>\n      <td>31.89</td>\n      <td>-11.11</td>\n      <td>26.03</td>\n      <td>7.03</td>\n      <td>-0.807727</td>\n    </tr>\n    <tr>\n      <th>18</th>\n      <td>19</td>\n      <td>Dijon</td>\n      <td>23</td>\n      <td>2</td>\n      <td>9</td>\n      <td>12</td>\n      <td>15</td>\n      <td>32</td>\n      <td>15</td>\n      <td>19.31</td>\n      <td>4.31</td>\n      <td>42.89</td>\n      <td>10.89</td>\n      <td>15.83</td>\n      <td>0.83</td>\n      <td>0.250000</td>\n    </tr>\n    <tr>\n      <th>19</th>\n      <td>20</td>\n      <td>Nimes</td>\n      <td>22</td>\n      <td>4</td>\n      <td>3</td>\n      <td>15</td>\n      <td>17</td>\n      <td>47</td>\n      <td>15</td>\n      <td>20.01</td>\n      <td>3.01</td>\n      <td>44.47</td>\n      <td>-2.53</td>\n      <td>16.11</td>\n      <td>1.11</td>\n      <td>-0.302273</td>\n    </tr>\n  </tbody>\n</table>\n</div>"
     },
     "metadata": {},
     "execution_count": 47
    }
   ],
   "source": [
    "df['reussit_index'] = - (df['xG-G']/df['M']) + (df['xGA-GA']/df['M']) - (df['xPTS-PTS']/df['M'])\n",
    "df"
   ]
  },
  {
   "cell_type": "code",
   "execution_count": 48,
   "metadata": {},
   "outputs": [],
   "source": [
    "df.to_csv('understatL1.csv')"
   ]
  },
  {
   "cell_type": "code",
   "execution_count": 49,
   "metadata": {},
   "outputs": [],
   "source": [
    "chrome.close()"
   ]
  },
  {
   "cell_type": "code",
   "execution_count": null,
   "metadata": {},
   "outputs": [],
   "source": []
  }
 ],
 "metadata": {
  "kernelspec": {
   "display_name": "Python 3",
   "language": "python",
   "name": "python3"
  },
  "language_info": {
   "codemirror_mode": {
    "name": "ipython",
    "version": 3
   },
   "file_extension": ".py",
   "mimetype": "text/x-python",
   "name": "python",
   "nbconvert_exporter": "python",
   "pygments_lexer": "ipython3",
   "version": "3.7.4-final"
  }
 },
 "nbformat": 4,
 "nbformat_minor": 2
}