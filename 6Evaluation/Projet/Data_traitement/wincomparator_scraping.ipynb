{
 "cells": [
  {
   "cell_type": "code",
   "execution_count": 126,
   "metadata": {},
   "outputs": [
    {
     "output_type": "stream",
     "name": "stderr",
     "text": [
      "[WDM] - ====== WebDriver manager ======\n",
      "[WDM] - Current google-chrome version is 88.0.4324\n",
      "[WDM] - Get LATEST driver version for 88.0.4324\n",
      "\n",
      "\n",
      "[WDM] - Driver [/Users/nathan/.wdm/drivers/chromedriver/mac64/88.0.4324.96/chromedriver] found in cache\n"
     ]
    }
   ],
   "source": [
    "from selenium import webdriver\n",
    "from webdriver_manager.chrome import ChromeDriverManager\n",
    "chrome = webdriver.Chrome(ChromeDriverManager().install()) # Sans Chromedriver\n",
    "# chrome = "
   ]
  },
  {
   "cell_type": "code",
   "execution_count": 127,
   "metadata": {},
   "outputs": [],
   "source": [
    "chrome.get(\"https://www.wincomparator.com/fr-fr/cotes/football/france/ligue-1-id123/\")"
   ]
  },
  {
   "cell_type": "code",
   "execution_count": 128,
   "metadata": {},
   "outputs": [
    {
     "output_type": "execute_result",
     "data": {
      "text/plain": [
       "[\"France - Ligue 1\\n6 févr. 17:00\\nLorient\\nStade De Reims\\n2.6\\n3.35\\n2.88\\n6 févr. 19:00\\nLyon\\nRC Strasbourg\\n1.47\\n5\\n6.75\\n6 févr. 21:00\\nLens\\nRennes\\n2.78\\n3.3\\n2.65\\n7 févr. 13:00\\nBrest\\nBordeaux\\n2.6\\n3.25\\n2.95\\n7 févr. 15:00\\nMontpellier\\nDijon\\n1.72\\n3.8\\n5.1\\n7 févr. 15:00\\nSaint Etienne\\nFC Metz\\n2.1\\n3.28\\n3.95\\n7 févr. 15:00\\nNice\\nAngers Sco\\n2.71\\n3.15\\n2.85\\n7 févr. 15:00\\nNîmes Olympique\\nMonaco\\n8.5\\n5\\n1.41\\n7 févr. 17:00\\nFC Nantes\\nLille\\n4.75\\n3.5\\n1.85\\n7 févr. 21:00\\nMarseille\\nPSG\\n8.1\\n5.35\\n1.4\\n14 févr. 19:00\\nRennes\\nSaint Etienne\\n2\\n3.5\\n3.95\\n14 févr. 19:00\\nAngers Sco\\nFC Nantes\\n2.25\\n3\\n3.7\\n14 févr. 19:00\\nLyon\\nMontpellier\\n1.42\\n5.2\\n7.2\\n14 févr. 19:00\\nFC Metz\\nRC Strasbourg\\n3.25\\n2.95\\n2.55\\n14 févr. 19:00\\nStade De Reims\\nLens\\n3.25\\n3\\n2.5\\n14 févr. 19:00\\nBordeaux\\nMarseille\\n2.8\\n3.3\\n2.63\\n14 févr. 19:00\\nMonaco\\nLorient\\n1.41\\n5\\n7.4\\n14 févr. 19:00\\nDijon\\nNîmes Olympique\\n2.35\\n3.5\\n3.1\\n14 févr. 19:00\\nPSG\\nNice\\n1.18\\n7.9\\n15\\n14 févr. 19:00\\nLille\\nBrest\\n1.55\\n4.2\\n6.25\\nbonus\\n120€\\nJ'en profite!\"]"
      ]
     },
     "metadata": {},
     "execution_count": 128
    }
   ],
   "source": [
    "import pandas as pd\n",
    "search_data = chrome.find_elements_by_id(\"list-wrapper\") # Scrapper les données\n",
    "stat = [elt.text for elt in search_data] # Récupération des données\n",
    "stat\n"
   ]
  },
  {
   "cell_type": "code",
   "execution_count": 129,
   "metadata": {},
   "outputs": [
    {
     "output_type": "execute_result",
     "data": {
      "text/plain": [
       "['6 févr. 17:00',\n",
       " 'Lorient',\n",
       " 'Reims',\n",
       " '2.6',\n",
       " '3.35',\n",
       " '2.88',\n",
       " '6 févr. 19:00',\n",
       " 'Lyon',\n",
       " 'Strasbourg',\n",
       " '1.47',\n",
       " '5',\n",
       " '6.75',\n",
       " '6 févr. 21:00',\n",
       " 'Lens',\n",
       " 'Rennes',\n",
       " '2.78',\n",
       " '3.3',\n",
       " '2.65',\n",
       " '7 févr. 13:00',\n",
       " 'Brest',\n",
       " 'Bordeaux',\n",
       " '2.6',\n",
       " '3.25',\n",
       " '2.95',\n",
       " '7 févr. 15:00',\n",
       " 'Montpellier',\n",
       " 'Dijon',\n",
       " '1.72',\n",
       " '3.8',\n",
       " '5.1',\n",
       " '7 févr. 15:00',\n",
       " 'Saint-Etienne',\n",
       " 'Metz',\n",
       " '2.1',\n",
       " '3.28',\n",
       " '3.95',\n",
       " '7 févr. 15:00',\n",
       " 'Nice',\n",
       " 'Angers',\n",
       " '2.71',\n",
       " '3.15',\n",
       " '2.85',\n",
       " '7 févr. 15:00',\n",
       " 'Nimes',\n",
       " 'Monaco',\n",
       " '8.5',\n",
       " '5',\n",
       " '1.41',\n",
       " '7 févr. 17:00',\n",
       " 'Nantes',\n",
       " 'Lille',\n",
       " '4.75',\n",
       " '3.5',\n",
       " '1.85',\n",
       " '7 févr. 21:00',\n",
       " 'Marseille',\n",
       " 'Paris-Saint-Germain',\n",
       " '8.1',\n",
       " '5.35',\n",
       " '1.4',\n",
       " '14 févr. 19:00',\n",
       " 'Rennes',\n",
       " 'Saint-Etienne',\n",
       " '2',\n",
       " '3.5',\n",
       " '3.95',\n",
       " '14 févr. 19:00',\n",
       " 'Angers',\n",
       " 'Nantes',\n",
       " '2.25',\n",
       " '3',\n",
       " '3.7',\n",
       " '14 févr. 19:00',\n",
       " 'Lyon',\n",
       " 'Montpellier',\n",
       " '1.42',\n",
       " '5.2',\n",
       " '7.2',\n",
       " '14 févr. 19:00',\n",
       " 'Metz',\n",
       " 'Strasbourg',\n",
       " '3.25',\n",
       " '2.95',\n",
       " '2.55',\n",
       " '14 févr. 19:00',\n",
       " 'Reims',\n",
       " 'Lens',\n",
       " '3.25',\n",
       " '3',\n",
       " '2.5',\n",
       " '14 févr. 19:00',\n",
       " 'Bordeaux',\n",
       " 'Marseille',\n",
       " '2.8',\n",
       " '3.3',\n",
       " '2.63',\n",
       " '14 févr. 19:00',\n",
       " 'Monaco',\n",
       " 'Lorient',\n",
       " '1.41',\n",
       " '5',\n",
       " '7.4',\n",
       " '14 févr. 19:00',\n",
       " 'Dijon',\n",
       " 'Nimes',\n",
       " '2.35',\n",
       " '3.5',\n",
       " '3.1',\n",
       " '14 févr. 19:00',\n",
       " 'Paris-Saint-Germain',\n",
       " 'Nice',\n",
       " '1.18',\n",
       " '7.9',\n",
       " '15',\n",
       " '14 févr. 19:00',\n",
       " 'Lille',\n",
       " 'Brest',\n",
       " '1.55',\n",
       " '4.2',\n",
       " '6.25']"
      ]
     },
     "metadata": {},
     "execution_count": 129
    }
   ],
   "source": [
    "tab = stat[0].replace('\\n', ',')\n",
    "tab = tab.replace('Stade De Reims', 'Reims')\n",
    "tab = tab.replace('Angers Sco', 'Angers')\n",
    "tab = tab.replace('FC Metz', 'Metz')\n",
    "tab = tab.replace('Saint Etienne', 'Saint-Etienne')\n",
    "tab = tab.replace('PSG', 'Paris-Saint-Germain')\n",
    "tab = tab.replace('Nîmes Olympique', 'Nimes')\n",
    "tab = tab.replace('FC Nantes', 'Nantes')\n",
    "tab = tab.replace('RC Strasbourg', 'Strasbourg')\n",
    "tab = tab.split(',')\n",
    "tab = tab[1:-3]\n",
    "tab"
   ]
  },
  {
   "cell_type": "code",
   "execution_count": 130,
   "metadata": {},
   "outputs": [],
   "source": [
    "ncol = 6\n",
    "cut_list = [tab[i:i + ncol] for i in range(0, len(tab), ncol)]"
   ]
  },
  {
   "cell_type": "code",
   "execution_count": 131,
   "metadata": {},
   "outputs": [
    {
     "output_type": "execute_result",
     "data": {
      "text/plain": [
       "              Date            Home_Team            Away Team Home Team Win  \\\n",
       "0    6 févr. 17:00              Lorient                Reims           2.6   \n",
       "1    6 févr. 19:00                 Lyon           Strasbourg          1.47   \n",
       "2    6 févr. 21:00                 Lens               Rennes          2.78   \n",
       "3    7 févr. 13:00                Brest             Bordeaux           2.6   \n",
       "4    7 févr. 15:00          Montpellier                Dijon          1.72   \n",
       "5    7 févr. 15:00        Saint-Etienne                 Metz           2.1   \n",
       "6    7 févr. 15:00                 Nice               Angers          2.71   \n",
       "7    7 févr. 15:00                Nimes               Monaco           8.5   \n",
       "8    7 févr. 17:00               Nantes                Lille          4.75   \n",
       "9    7 févr. 21:00            Marseille  Paris-Saint-Germain           8.1   \n",
       "10  14 févr. 19:00               Rennes        Saint-Etienne             2   \n",
       "11  14 févr. 19:00               Angers               Nantes          2.25   \n",
       "12  14 févr. 19:00                 Lyon          Montpellier          1.42   \n",
       "13  14 févr. 19:00                 Metz           Strasbourg          3.25   \n",
       "14  14 févr. 19:00                Reims                 Lens          3.25   \n",
       "15  14 févr. 19:00             Bordeaux            Marseille           2.8   \n",
       "16  14 févr. 19:00               Monaco              Lorient          1.41   \n",
       "17  14 févr. 19:00                Dijon                Nimes          2.35   \n",
       "18  14 févr. 19:00  Paris-Saint-Germain                 Nice          1.18   \n",
       "19  14 févr. 19:00                Lille                Brest          1.55   \n",
       "\n",
       "    Draw Away Team Win  \n",
       "0   3.35          2.88  \n",
       "1      5          6.75  \n",
       "2    3.3          2.65  \n",
       "3   3.25          2.95  \n",
       "4    3.8           5.1  \n",
       "5   3.28          3.95  \n",
       "6   3.15          2.85  \n",
       "7      5          1.41  \n",
       "8    3.5          1.85  \n",
       "9   5.35           1.4  \n",
       "10   3.5          3.95  \n",
       "11     3           3.7  \n",
       "12   5.2           7.2  \n",
       "13  2.95          2.55  \n",
       "14     3           2.5  \n",
       "15   3.3          2.63  \n",
       "16     5           7.4  \n",
       "17   3.5           3.1  \n",
       "18   7.9            15  \n",
       "19   4.2          6.25  "
      ],
      "text/html": "<div>\n<style scoped>\n    .dataframe tbody tr th:only-of-type {\n        vertical-align: middle;\n    }\n\n    .dataframe tbody tr th {\n        vertical-align: top;\n    }\n\n    .dataframe thead th {\n        text-align: right;\n    }\n</style>\n<table border=\"1\" class=\"dataframe\">\n  <thead>\n    <tr style=\"text-align: right;\">\n      <th></th>\n      <th>Date</th>\n      <th>Home_Team</th>\n      <th>Away Team</th>\n      <th>Home Team Win</th>\n      <th>Draw</th>\n      <th>Away Team Win</th>\n    </tr>\n  </thead>\n  <tbody>\n    <tr>\n      <th>0</th>\n      <td>6 févr. 17:00</td>\n      <td>Lorient</td>\n      <td>Reims</td>\n      <td>2.6</td>\n      <td>3.35</td>\n      <td>2.88</td>\n    </tr>\n    <tr>\n      <th>1</th>\n      <td>6 févr. 19:00</td>\n      <td>Lyon</td>\n      <td>Strasbourg</td>\n      <td>1.47</td>\n      <td>5</td>\n      <td>6.75</td>\n    </tr>\n    <tr>\n      <th>2</th>\n      <td>6 févr. 21:00</td>\n      <td>Lens</td>\n      <td>Rennes</td>\n      <td>2.78</td>\n      <td>3.3</td>\n      <td>2.65</td>\n    </tr>\n    <tr>\n      <th>3</th>\n      <td>7 févr. 13:00</td>\n      <td>Brest</td>\n      <td>Bordeaux</td>\n      <td>2.6</td>\n      <td>3.25</td>\n      <td>2.95</td>\n    </tr>\n    <tr>\n      <th>4</th>\n      <td>7 févr. 15:00</td>\n      <td>Montpellier</td>\n      <td>Dijon</td>\n      <td>1.72</td>\n      <td>3.8</td>\n      <td>5.1</td>\n    </tr>\n    <tr>\n      <th>5</th>\n      <td>7 févr. 15:00</td>\n      <td>Saint-Etienne</td>\n      <td>Metz</td>\n      <td>2.1</td>\n      <td>3.28</td>\n      <td>3.95</td>\n    </tr>\n    <tr>\n      <th>6</th>\n      <td>7 févr. 15:00</td>\n      <td>Nice</td>\n      <td>Angers</td>\n      <td>2.71</td>\n      <td>3.15</td>\n      <td>2.85</td>\n    </tr>\n    <tr>\n      <th>7</th>\n      <td>7 févr. 15:00</td>\n      <td>Nimes</td>\n      <td>Monaco</td>\n      <td>8.5</td>\n      <td>5</td>\n      <td>1.41</td>\n    </tr>\n    <tr>\n      <th>8</th>\n      <td>7 févr. 17:00</td>\n      <td>Nantes</td>\n      <td>Lille</td>\n      <td>4.75</td>\n      <td>3.5</td>\n      <td>1.85</td>\n    </tr>\n    <tr>\n      <th>9</th>\n      <td>7 févr. 21:00</td>\n      <td>Marseille</td>\n      <td>Paris-Saint-Germain</td>\n      <td>8.1</td>\n      <td>5.35</td>\n      <td>1.4</td>\n    </tr>\n    <tr>\n      <th>10</th>\n      <td>14 févr. 19:00</td>\n      <td>Rennes</td>\n      <td>Saint-Etienne</td>\n      <td>2</td>\n      <td>3.5</td>\n      <td>3.95</td>\n    </tr>\n    <tr>\n      <th>11</th>\n      <td>14 févr. 19:00</td>\n      <td>Angers</td>\n      <td>Nantes</td>\n      <td>2.25</td>\n      <td>3</td>\n      <td>3.7</td>\n    </tr>\n    <tr>\n      <th>12</th>\n      <td>14 févr. 19:00</td>\n      <td>Lyon</td>\n      <td>Montpellier</td>\n      <td>1.42</td>\n      <td>5.2</td>\n      <td>7.2</td>\n    </tr>\n    <tr>\n      <th>13</th>\n      <td>14 févr. 19:00</td>\n      <td>Metz</td>\n      <td>Strasbourg</td>\n      <td>3.25</td>\n      <td>2.95</td>\n      <td>2.55</td>\n    </tr>\n    <tr>\n      <th>14</th>\n      <td>14 févr. 19:00</td>\n      <td>Reims</td>\n      <td>Lens</td>\n      <td>3.25</td>\n      <td>3</td>\n      <td>2.5</td>\n    </tr>\n    <tr>\n      <th>15</th>\n      <td>14 févr. 19:00</td>\n      <td>Bordeaux</td>\n      <td>Marseille</td>\n      <td>2.8</td>\n      <td>3.3</td>\n      <td>2.63</td>\n    </tr>\n    <tr>\n      <th>16</th>\n      <td>14 févr. 19:00</td>\n      <td>Monaco</td>\n      <td>Lorient</td>\n      <td>1.41</td>\n      <td>5</td>\n      <td>7.4</td>\n    </tr>\n    <tr>\n      <th>17</th>\n      <td>14 févr. 19:00</td>\n      <td>Dijon</td>\n      <td>Nimes</td>\n      <td>2.35</td>\n      <td>3.5</td>\n      <td>3.1</td>\n    </tr>\n    <tr>\n      <th>18</th>\n      <td>14 févr. 19:00</td>\n      <td>Paris-Saint-Germain</td>\n      <td>Nice</td>\n      <td>1.18</td>\n      <td>7.9</td>\n      <td>15</td>\n    </tr>\n    <tr>\n      <th>19</th>\n      <td>14 févr. 19:00</td>\n      <td>Lille</td>\n      <td>Brest</td>\n      <td>1.55</td>\n      <td>4.2</td>\n      <td>6.25</td>\n    </tr>\n  </tbody>\n</table>\n</div>"
     },
     "metadata": {},
     "execution_count": 131
    }
   ],
   "source": [
    "col_names = ['Date', 'Home_Team', 'Away Team', 'Home Team Win', 'Draw', 'Away Team Win']\n",
    "df_cote = pd.DataFrame(cut_list, columns = col_names)\n",
    "df_cote"
   ]
  },
  {
   "cell_type": "code",
   "execution_count": 132,
   "metadata": {},
   "outputs": [],
   "source": [
    "df_cote.to_csv('coteL1.csv')"
   ]
  },
  {
   "cell_type": "code",
   "execution_count": 133,
   "metadata": {},
   "outputs": [],
   "source": [
    "chrome.close()"
   ]
  },
  {
   "cell_type": "code",
   "execution_count": null,
   "metadata": {},
   "outputs": [],
   "source": []
  }
 ],
 "metadata": {
  "kernelspec": {
   "display_name": "Python 3",
   "language": "python",
   "name": "python3"
  },
  "language_info": {
   "codemirror_mode": {
    "name": "ipython",
    "version": 3
   },
   "file_extension": ".py",
   "mimetype": "text/x-python",
   "name": "python",
   "nbconvert_exporter": "python",
   "pygments_lexer": "ipython3",
   "version": "3.7.4-final"
  }
 },
 "nbformat": 4,
 "nbformat_minor": 4
}