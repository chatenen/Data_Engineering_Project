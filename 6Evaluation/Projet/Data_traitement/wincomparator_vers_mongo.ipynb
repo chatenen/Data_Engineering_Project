{
 "metadata": {
  "language_info": {
   "codemirror_mode": {
    "name": "ipython",
    "version": 3
   },
   "file_extension": ".py",
   "mimetype": "text/x-python",
   "name": "python",
   "nbconvert_exporter": "python",
   "pygments_lexer": "ipython3",
   "version": "3.7.4-final"
  },
  "orig_nbformat": 2,
  "kernelspec": {
   "name": "python3",
   "display_name": "Python 3",
   "language": "python"
  }
 },
 "nbformat": 4,
 "nbformat_minor": 2,
 "cells": [
  {
   "cell_type": "code",
   "execution_count": 6,
   "metadata": {},
   "outputs": [],
   "source": [
    "import pandas as pd\n",
    "import pymongo\n",
    "from pymongo import MongoClient"
   ]
  },
  {
   "cell_type": "code",
   "execution_count": 24,
   "metadata": {},
   "outputs": [],
   "source": [
    "client = pymongo.MongoClient('127.0.0.1', 27017) # Python sur VSCode en local utilisé pendant le projet\n",
    "#client = pymongo.MongoClient('mongo')\n",
    "database = client['exercices']\n",
    "collection_coteL1 = database['coteL1']"
   ]
  },
  {
   "cell_type": "code",
   "execution_count": 25,
   "metadata": {},
   "outputs": [],
   "source": [
    "df_cote_L1 = pd.read_csv('coteL1.csv', index_col=0)"
   ]
  },
  {
   "cell_type": "code",
   "execution_count": 26,
   "metadata": {},
   "outputs": [
    {
     "output_type": "execute_result",
     "data": {
      "text/plain": [
       "              Date            Home_Team            Away Team  Home Team Win  \\\n",
       "0    6 févr. 17:00              Lorient                Reims           2.60   \n",
       "1    6 févr. 19:00                 Lyon           Strasbourg           1.47   \n",
       "2    6 févr. 21:00                 Lens               Rennes           2.78   \n",
       "3    7 févr. 13:00                Brest             Bordeaux           2.60   \n",
       "4    7 févr. 15:00          Montpellier                Dijon           1.72   \n",
       "5    7 févr. 15:00        Saint-Etienne                 Metz           2.10   \n",
       "6    7 févr. 15:00                 Nice               Angers           2.71   \n",
       "7    7 févr. 15:00                Nimes               Monaco           8.50   \n",
       "8    7 févr. 17:00               Nantes                Lille           4.75   \n",
       "9    7 févr. 21:00            Marseille  Paris-Saint-Germain           8.10   \n",
       "10  14 févr. 19:00               Rennes        Saint-Etienne           2.00   \n",
       "11  14 févr. 19:00               Angers               Nantes           2.25   \n",
       "12  14 févr. 19:00                 Lyon          Montpellier           1.42   \n",
       "13  14 févr. 19:00                 Metz           Strasbourg           3.25   \n",
       "14  14 févr. 19:00                Reims                 Lens           3.25   \n",
       "15  14 févr. 19:00             Bordeaux            Marseille           2.80   \n",
       "16  14 févr. 19:00               Monaco              Lorient           1.41   \n",
       "17  14 févr. 19:00                Dijon                Nimes           2.35   \n",
       "18  14 févr. 19:00  Paris-Saint-Germain                 Nice           1.18   \n",
       "19  14 févr. 19:00                Lille                Brest           1.55   \n",
       "\n",
       "    Draw  Away Team Win  \n",
       "0   3.35           2.88  \n",
       "1   5.00           6.75  \n",
       "2   3.30           2.65  \n",
       "3   3.25           2.95  \n",
       "4   3.80           5.10  \n",
       "5   3.28           3.95  \n",
       "6   3.15           2.85  \n",
       "7   5.00           1.41  \n",
       "8   3.50           1.85  \n",
       "9   5.35           1.40  \n",
       "10  3.50           3.95  \n",
       "11  3.00           3.70  \n",
       "12  5.20           7.20  \n",
       "13  2.95           2.55  \n",
       "14  3.00           2.50  \n",
       "15  3.30           2.63  \n",
       "16  5.00           7.40  \n",
       "17  3.50           3.10  \n",
       "18  7.90          15.00  \n",
       "19  4.20           6.25  "
      ],
      "text/html": "<div>\n<style scoped>\n    .dataframe tbody tr th:only-of-type {\n        vertical-align: middle;\n    }\n\n    .dataframe tbody tr th {\n        vertical-align: top;\n    }\n\n    .dataframe thead th {\n        text-align: right;\n    }\n</style>\n<table border=\"1\" class=\"dataframe\">\n  <thead>\n    <tr style=\"text-align: right;\">\n      <th></th>\n      <th>Date</th>\n      <th>Home_Team</th>\n      <th>Away Team</th>\n      <th>Home Team Win</th>\n      <th>Draw</th>\n      <th>Away Team Win</th>\n    </tr>\n  </thead>\n  <tbody>\n    <tr>\n      <th>0</th>\n      <td>6 févr. 17:00</td>\n      <td>Lorient</td>\n      <td>Reims</td>\n      <td>2.60</td>\n      <td>3.35</td>\n      <td>2.88</td>\n    </tr>\n    <tr>\n      <th>1</th>\n      <td>6 févr. 19:00</td>\n      <td>Lyon</td>\n      <td>Strasbourg</td>\n      <td>1.47</td>\n      <td>5.00</td>\n      <td>6.75</td>\n    </tr>\n    <tr>\n      <th>2</th>\n      <td>6 févr. 21:00</td>\n      <td>Lens</td>\n      <td>Rennes</td>\n      <td>2.78</td>\n      <td>3.30</td>\n      <td>2.65</td>\n    </tr>\n    <tr>\n      <th>3</th>\n      <td>7 févr. 13:00</td>\n      <td>Brest</td>\n      <td>Bordeaux</td>\n      <td>2.60</td>\n      <td>3.25</td>\n      <td>2.95</td>\n    </tr>\n    <tr>\n      <th>4</th>\n      <td>7 févr. 15:00</td>\n      <td>Montpellier</td>\n      <td>Dijon</td>\n      <td>1.72</td>\n      <td>3.80</td>\n      <td>5.10</td>\n    </tr>\n    <tr>\n      <th>5</th>\n      <td>7 févr. 15:00</td>\n      <td>Saint-Etienne</td>\n      <td>Metz</td>\n      <td>2.10</td>\n      <td>3.28</td>\n      <td>3.95</td>\n    </tr>\n    <tr>\n      <th>6</th>\n      <td>7 févr. 15:00</td>\n      <td>Nice</td>\n      <td>Angers</td>\n      <td>2.71</td>\n      <td>3.15</td>\n      <td>2.85</td>\n    </tr>\n    <tr>\n      <th>7</th>\n      <td>7 févr. 15:00</td>\n      <td>Nimes</td>\n      <td>Monaco</td>\n      <td>8.50</td>\n      <td>5.00</td>\n      <td>1.41</td>\n    </tr>\n    <tr>\n      <th>8</th>\n      <td>7 févr. 17:00</td>\n      <td>Nantes</td>\n      <td>Lille</td>\n      <td>4.75</td>\n      <td>3.50</td>\n      <td>1.85</td>\n    </tr>\n    <tr>\n      <th>9</th>\n      <td>7 févr. 21:00</td>\n      <td>Marseille</td>\n      <td>Paris-Saint-Germain</td>\n      <td>8.10</td>\n      <td>5.35</td>\n      <td>1.40</td>\n    </tr>\n    <tr>\n      <th>10</th>\n      <td>14 févr. 19:00</td>\n      <td>Rennes</td>\n      <td>Saint-Etienne</td>\n      <td>2.00</td>\n      <td>3.50</td>\n      <td>3.95</td>\n    </tr>\n    <tr>\n      <th>11</th>\n      <td>14 févr. 19:00</td>\n      <td>Angers</td>\n      <td>Nantes</td>\n      <td>2.25</td>\n      <td>3.00</td>\n      <td>3.70</td>\n    </tr>\n    <tr>\n      <th>12</th>\n      <td>14 févr. 19:00</td>\n      <td>Lyon</td>\n      <td>Montpellier</td>\n      <td>1.42</td>\n      <td>5.20</td>\n      <td>7.20</td>\n    </tr>\n    <tr>\n      <th>13</th>\n      <td>14 févr. 19:00</td>\n      <td>Metz</td>\n      <td>Strasbourg</td>\n      <td>3.25</td>\n      <td>2.95</td>\n      <td>2.55</td>\n    </tr>\n    <tr>\n      <th>14</th>\n      <td>14 févr. 19:00</td>\n      <td>Reims</td>\n      <td>Lens</td>\n      <td>3.25</td>\n      <td>3.00</td>\n      <td>2.50</td>\n    </tr>\n    <tr>\n      <th>15</th>\n      <td>14 févr. 19:00</td>\n      <td>Bordeaux</td>\n      <td>Marseille</td>\n      <td>2.80</td>\n      <td>3.30</td>\n      <td>2.63</td>\n    </tr>\n    <tr>\n      <th>16</th>\n      <td>14 févr. 19:00</td>\n      <td>Monaco</td>\n      <td>Lorient</td>\n      <td>1.41</td>\n      <td>5.00</td>\n      <td>7.40</td>\n    </tr>\n    <tr>\n      <th>17</th>\n      <td>14 févr. 19:00</td>\n      <td>Dijon</td>\n      <td>Nimes</td>\n      <td>2.35</td>\n      <td>3.50</td>\n      <td>3.10</td>\n    </tr>\n    <tr>\n      <th>18</th>\n      <td>14 févr. 19:00</td>\n      <td>Paris-Saint-Germain</td>\n      <td>Nice</td>\n      <td>1.18</td>\n      <td>7.90</td>\n      <td>15.00</td>\n    </tr>\n    <tr>\n      <th>19</th>\n      <td>14 févr. 19:00</td>\n      <td>Lille</td>\n      <td>Brest</td>\n      <td>1.55</td>\n      <td>4.20</td>\n      <td>6.25</td>\n    </tr>\n  </tbody>\n</table>\n</div>"
     },
     "metadata": {},
     "execution_count": 26
    }
   ],
   "source": [
    "df_cote_L1"
   ]
  },
  {
   "cell_type": "code",
   "execution_count": 27,
   "metadata": {},
   "outputs": [],
   "source": [
    "cote_L1_dict = df_cote_L1.to_dict('records')"
   ]
  },
  {
   "cell_type": "code",
   "execution_count": 28,
   "metadata": {},
   "outputs": [],
   "source": [
    "collection_coteL1.drop()"
   ]
  },
  {
   "cell_type": "code",
   "execution_count": 29,
   "metadata": {},
   "outputs": [
    {
     "output_type": "execute_result",
     "data": {
      "text/plain": [
       "<pymongo.results.InsertManyResult at 0x7fa70236d410>"
      ]
     },
     "metadata": {},
     "execution_count": 29
    }
   ],
   "source": [
    "collection_coteL1.insert_many(cote_L1_dict)"
   ]
  }
 ]
}